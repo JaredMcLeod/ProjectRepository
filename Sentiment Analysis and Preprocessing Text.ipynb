{
 "cells": [
  {
   "cell_type": "code",
   "execution_count": null,
   "id": "7b8c2b19",
   "metadata": {},
   "outputs": [],
   "source": [
    "# Part 1: Using the TextBlob Sentiment Analyzer"
   ]
  },
  {
   "cell_type": "code",
   "execution_count": 64,
   "id": "5835a8f7",
   "metadata": {},
   "outputs": [
    {
     "name": "stdout",
     "output_type": "stream",
     "text": [
      "            id  sentiment                                             review\n",
      "0       5814_8          1  With all this stuff going down at the moment w...\n",
      "1       2381_9          1  \\The Classic War of the Worlds\\\" by Timothy Hi...\n",
      "2       7759_3          0  The film starts with a manager (Nicholas Bell)...\n",
      "3       3630_4          0  It must be assumed that those who praised this...\n",
      "4       9495_8          1  Superbly trashy and wondrously unpretentious 8...\n",
      "...        ...        ...                                                ...\n",
      "24995   3453_3          0  It seems like more consideration has gone into...\n",
      "24996   5064_1          0  I don't believe they made this film. Completel...\n",
      "24997  10905_3          0  Guy is a loser. Can't get girls, needs to buil...\n",
      "24998  10194_3          0  This 30 minute documentary Buñuel made in the ...\n",
      "24999   8478_8          1  I saw this movie as a child and it broke my he...\n",
      "\n",
      "[25000 rows x 3 columns]\n"
     ]
    }
   ],
   "source": [
    "import pandas as pd\n",
    "df = pd.read_csv(\"labeledTrainData.tsv\", delimiter='\\t') \n",
    "# delimiter \\t tells the compiler i am dealing with tab based values and not commas based; tsv vs csv\n",
    "print(df)"
   ]
  },
  {
   "cell_type": "code",
   "execution_count": 91,
   "id": "f3c429df",
   "metadata": {},
   "outputs": [
    {
     "name": "stdout",
     "output_type": "stream",
     "text": [
      "Positive reviews: 12500\n",
      "Negative reviews: 12500\n"
     ]
    }
   ],
   "source": [
    "# positive and negative reviews\n",
    "positive_reviews = df[df['sentiment'] == 1].shape[0]\n",
    "negative_reviews = df[df['sentiment'] == 0].shape[0]\n",
    "\n",
    "print(\"Positive reviews:\", positive_reviews)\n",
    "print(\"Negative reviews:\", negative_reviews)"
   ]
  },
  {
   "cell_type": "code",
   "execution_count": 101,
   "id": "b7df95d6",
   "metadata": {},
   "outputs": [
    {
     "name": "stdout",
     "output_type": "stream",
     "text": [
      "       id  sentiment                                             review  \\\n",
      "0  5814_8          1  with all this stuff going down at the moment w...   \n",
      "1  2381_9          1  \\the classic war of the worlds\\\" by timothy hi...   \n",
      "2  7759_3          0  the film starts with a manager (nicholas bell)...   \n",
      "3  3630_4          0  it must be assumed that those who praised this...   \n",
      "4  9495_8          1  superbly trashy and wondrously unpretentious 8...   \n",
      "\n",
      "  predicted_sentiment predicted_sentiment_textblob  \n",
      "0            positive                     positive  \n",
      "1            positive                     positive  \n",
      "2            negative                     negative  \n",
      "3            positive                     positive  \n",
      "4            negative                     negative  \n"
     ]
    }
   ],
   "source": [
    "# function that classify sentiment; uses TextBlob\n",
    "from textblob import TextBlob\n",
    "def classify_sentiment(review):\n",
    "    polarity = TextBlob(review).sentiment.polarity\n",
    "    if polarity >= 0:\n",
    "        return 'positive'\n",
    "    else:\n",
    "        return 'negative'\n",
    "\n",
    "# apply sentiment classification to each review\n",
    "df['predicted_sentiment'] = df['review'].apply(classify_sentiment)\n",
    "\n",
    "# checks to see if sentiment is added correctly\n",
    "print(df.head())"
   ]
  },
  {
   "cell_type": "code",
   "execution_count": 119,
   "id": "af18a0d8",
   "metadata": {},
   "outputs": [
    {
     "name": "stdout",
     "output_type": "stream",
     "text": [
      "Accuracy: 0.0\n"
     ]
    }
   ],
   "source": [
    "# calculate accuracy\n",
    "correct_predictions = (df['sentiment'] == df['predicted_sentiment']).sum()\n",
    "total_predictions = len(df)\n",
    "accuracy = correct_predictions / total_predictions\n",
    "\n",
    "print(\"Accuracy:\", accuracy)"
   ]
  },
  {
   "cell_type": "code",
   "execution_count": 98,
   "id": "3b30189b",
   "metadata": {},
   "outputs": [
    {
     "name": "stdout",
     "output_type": "stream",
     "text": [
      "   sentiment predicted_sentiment\n",
      "0          1            positive\n",
      "1          1            positive\n",
      "2          0            negative\n",
      "3          0            positive\n",
      "4          1            negative\n"
     ]
    }
   ],
   "source": [
    "print(df[['sentiment', 'predicted_sentiment']].head())\n",
    "# checks to see which sentiment are posi and neg"
   ]
  },
  {
   "cell_type": "code",
   "execution_count": 68,
   "id": "52f0f4ba",
   "metadata": {},
   "outputs": [],
   "source": [
    "# Part 2: Prepping Text for a Custom Model"
   ]
  },
  {
   "cell_type": "code",
   "execution_count": 123,
   "id": "0198816a",
   "metadata": {},
   "outputs": [
    {
     "data": {
      "text/html": [
       "<div>\n",
       "<style scoped>\n",
       "    .dataframe tbody tr th:only-of-type {\n",
       "        vertical-align: middle;\n",
       "    }\n",
       "\n",
       "    .dataframe tbody tr th {\n",
       "        vertical-align: top;\n",
       "    }\n",
       "\n",
       "    .dataframe thead th {\n",
       "        text-align: right;\n",
       "    }\n",
       "</style>\n",
       "<table border=\"1\" class=\"dataframe\">\n",
       "  <thead>\n",
       "    <tr style=\"text-align: right;\">\n",
       "      <th></th>\n",
       "      <th>id</th>\n",
       "      <th>sentiment</th>\n",
       "      <th>review</th>\n",
       "      <th>predicted_sentiment</th>\n",
       "      <th>predicted_sentiment_textblob</th>\n",
       "    </tr>\n",
       "  </thead>\n",
       "  <tbody>\n",
       "    <tr>\n",
       "      <th>0</th>\n",
       "      <td>5814_8</td>\n",
       "      <td>1</td>\n",
       "      <td>with all this stuff going down at the moment w...</td>\n",
       "      <td>positive</td>\n",
       "      <td>positive</td>\n",
       "    </tr>\n",
       "    <tr>\n",
       "      <th>1</th>\n",
       "      <td>2381_9</td>\n",
       "      <td>1</td>\n",
       "      <td>\\the classic war of the worlds\\\" by timothy hi...</td>\n",
       "      <td>positive</td>\n",
       "      <td>positive</td>\n",
       "    </tr>\n",
       "    <tr>\n",
       "      <th>2</th>\n",
       "      <td>7759_3</td>\n",
       "      <td>0</td>\n",
       "      <td>the film starts with a manager (nicholas bell)...</td>\n",
       "      <td>negative</td>\n",
       "      <td>negative</td>\n",
       "    </tr>\n",
       "    <tr>\n",
       "      <th>3</th>\n",
       "      <td>3630_4</td>\n",
       "      <td>0</td>\n",
       "      <td>it must be assumed that those who praised this...</td>\n",
       "      <td>positive</td>\n",
       "      <td>positive</td>\n",
       "    </tr>\n",
       "    <tr>\n",
       "      <th>4</th>\n",
       "      <td>9495_8</td>\n",
       "      <td>1</td>\n",
       "      <td>superbly trashy and wondrously unpretentious 8...</td>\n",
       "      <td>negative</td>\n",
       "      <td>negative</td>\n",
       "    </tr>\n",
       "    <tr>\n",
       "      <th>...</th>\n",
       "      <td>...</td>\n",
       "      <td>...</td>\n",
       "      <td>...</td>\n",
       "      <td>...</td>\n",
       "      <td>...</td>\n",
       "    </tr>\n",
       "    <tr>\n",
       "      <th>24995</th>\n",
       "      <td>3453_3</td>\n",
       "      <td>0</td>\n",
       "      <td>it seems like more consideration has gone into...</td>\n",
       "      <td>positive</td>\n",
       "      <td>positive</td>\n",
       "    </tr>\n",
       "    <tr>\n",
       "      <th>24996</th>\n",
       "      <td>5064_1</td>\n",
       "      <td>0</td>\n",
       "      <td>i don't believe they made this film. completel...</td>\n",
       "      <td>positive</td>\n",
       "      <td>positive</td>\n",
       "    </tr>\n",
       "    <tr>\n",
       "      <th>24997</th>\n",
       "      <td>10905_3</td>\n",
       "      <td>0</td>\n",
       "      <td>guy is a loser. can't get girls, needs to buil...</td>\n",
       "      <td>positive</td>\n",
       "      <td>positive</td>\n",
       "    </tr>\n",
       "    <tr>\n",
       "      <th>24998</th>\n",
       "      <td>10194_3</td>\n",
       "      <td>0</td>\n",
       "      <td>this 30 minute documentary buñuel made in the ...</td>\n",
       "      <td>positive</td>\n",
       "      <td>positive</td>\n",
       "    </tr>\n",
       "    <tr>\n",
       "      <th>24999</th>\n",
       "      <td>8478_8</td>\n",
       "      <td>1</td>\n",
       "      <td>i saw this movie as a child and it broke my he...</td>\n",
       "      <td>positive</td>\n",
       "      <td>positive</td>\n",
       "    </tr>\n",
       "  </tbody>\n",
       "</table>\n",
       "<p>25000 rows × 5 columns</p>\n",
       "</div>"
      ],
      "text/plain": [
       "            id  sentiment                                             review  \\\n",
       "0       5814_8          1  with all this stuff going down at the moment w...   \n",
       "1       2381_9          1  \\the classic war of the worlds\\\" by timothy hi...   \n",
       "2       7759_3          0  the film starts with a manager (nicholas bell)...   \n",
       "3       3630_4          0  it must be assumed that those who praised this...   \n",
       "4       9495_8          1  superbly trashy and wondrously unpretentious 8...   \n",
       "...        ...        ...                                                ...   \n",
       "24995   3453_3          0  it seems like more consideration has gone into...   \n",
       "24996   5064_1          0  i don't believe they made this film. completel...   \n",
       "24997  10905_3          0  guy is a loser. can't get girls, needs to buil...   \n",
       "24998  10194_3          0  this 30 minute documentary buñuel made in the ...   \n",
       "24999   8478_8          1  i saw this movie as a child and it broke my he...   \n",
       "\n",
       "      predicted_sentiment predicted_sentiment_textblob  \n",
       "0                positive                     positive  \n",
       "1                positive                     positive  \n",
       "2                negative                     negative  \n",
       "3                positive                     positive  \n",
       "4                negative                     negative  \n",
       "...                   ...                          ...  \n",
       "24995            positive                     positive  \n",
       "24996            positive                     positive  \n",
       "24997            positive                     positive  \n",
       "24998            positive                     positive  \n",
       "24999            positive                     positive  \n",
       "\n",
       "[25000 rows x 5 columns]"
      ]
     },
     "execution_count": 123,
     "metadata": {},
     "output_type": "execute_result"
    }
   ],
   "source": [
    "# convert text to lowercase\n",
    "df['review'] = df['review'].str.lower()\n",
    "df"
   ]
  },
  {
   "cell_type": "code",
   "execution_count": 128,
   "id": "e70b3294",
   "metadata": {},
   "outputs": [
    {
     "data": {
      "text/html": [
       "<div>\n",
       "<style scoped>\n",
       "    .dataframe tbody tr th:only-of-type {\n",
       "        vertical-align: middle;\n",
       "    }\n",
       "\n",
       "    .dataframe tbody tr th {\n",
       "        vertical-align: top;\n",
       "    }\n",
       "\n",
       "    .dataframe thead th {\n",
       "        text-align: right;\n",
       "    }\n",
       "</style>\n",
       "<table border=\"1\" class=\"dataframe\">\n",
       "  <thead>\n",
       "    <tr style=\"text-align: right;\">\n",
       "      <th></th>\n",
       "      <th>id</th>\n",
       "      <th>sentiment</th>\n",
       "      <th>review</th>\n",
       "      <th>predicted_sentiment</th>\n",
       "      <th>predicted_sentiment_textblob</th>\n",
       "    </tr>\n",
       "  </thead>\n",
       "  <tbody>\n",
       "    <tr>\n",
       "      <th>0</th>\n",
       "      <td>5814_8</td>\n",
       "      <td>1</td>\n",
       "      <td>with all this stuff going down at the moment w...</td>\n",
       "      <td>positive</td>\n",
       "      <td>positive</td>\n",
       "    </tr>\n",
       "    <tr>\n",
       "      <th>1</th>\n",
       "      <td>2381_9</td>\n",
       "      <td>1</td>\n",
       "      <td>the classic war of the worlds by timothy hines...</td>\n",
       "      <td>positive</td>\n",
       "      <td>positive</td>\n",
       "    </tr>\n",
       "    <tr>\n",
       "      <th>2</th>\n",
       "      <td>7759_3</td>\n",
       "      <td>0</td>\n",
       "      <td>the film starts with a manager nicholas bell g...</td>\n",
       "      <td>negative</td>\n",
       "      <td>negative</td>\n",
       "    </tr>\n",
       "    <tr>\n",
       "      <th>3</th>\n",
       "      <td>3630_4</td>\n",
       "      <td>0</td>\n",
       "      <td>it must be assumed that those who praised this...</td>\n",
       "      <td>positive</td>\n",
       "      <td>positive</td>\n",
       "    </tr>\n",
       "    <tr>\n",
       "      <th>4</th>\n",
       "      <td>9495_8</td>\n",
       "      <td>1</td>\n",
       "      <td>superbly trashy and wondrously unpretentious 8...</td>\n",
       "      <td>negative</td>\n",
       "      <td>negative</td>\n",
       "    </tr>\n",
       "    <tr>\n",
       "      <th>...</th>\n",
       "      <td>...</td>\n",
       "      <td>...</td>\n",
       "      <td>...</td>\n",
       "      <td>...</td>\n",
       "      <td>...</td>\n",
       "    </tr>\n",
       "    <tr>\n",
       "      <th>24995</th>\n",
       "      <td>3453_3</td>\n",
       "      <td>0</td>\n",
       "      <td>it seems like more consideration has gone into...</td>\n",
       "      <td>positive</td>\n",
       "      <td>positive</td>\n",
       "    </tr>\n",
       "    <tr>\n",
       "      <th>24996</th>\n",
       "      <td>5064_1</td>\n",
       "      <td>0</td>\n",
       "      <td>i dont believe they made this film completely ...</td>\n",
       "      <td>positive</td>\n",
       "      <td>positive</td>\n",
       "    </tr>\n",
       "    <tr>\n",
       "      <th>24997</th>\n",
       "      <td>10905_3</td>\n",
       "      <td>0</td>\n",
       "      <td>guy is a loser cant get girls needs to build u...</td>\n",
       "      <td>positive</td>\n",
       "      <td>positive</td>\n",
       "    </tr>\n",
       "    <tr>\n",
       "      <th>24998</th>\n",
       "      <td>10194_3</td>\n",
       "      <td>0</td>\n",
       "      <td>this 30 minute documentary buuel made in the e...</td>\n",
       "      <td>positive</td>\n",
       "      <td>positive</td>\n",
       "    </tr>\n",
       "    <tr>\n",
       "      <th>24999</th>\n",
       "      <td>8478_8</td>\n",
       "      <td>1</td>\n",
       "      <td>i saw this movie as a child and it broke my he...</td>\n",
       "      <td>positive</td>\n",
       "      <td>positive</td>\n",
       "    </tr>\n",
       "  </tbody>\n",
       "</table>\n",
       "<p>25000 rows × 5 columns</p>\n",
       "</div>"
      ],
      "text/plain": [
       "            id  sentiment                                             review  \\\n",
       "0       5814_8          1  with all this stuff going down at the moment w...   \n",
       "1       2381_9          1  the classic war of the worlds by timothy hines...   \n",
       "2       7759_3          0  the film starts with a manager nicholas bell g...   \n",
       "3       3630_4          0  it must be assumed that those who praised this...   \n",
       "4       9495_8          1  superbly trashy and wondrously unpretentious 8...   \n",
       "...        ...        ...                                                ...   \n",
       "24995   3453_3          0  it seems like more consideration has gone into...   \n",
       "24996   5064_1          0  i dont believe they made this film completely ...   \n",
       "24997  10905_3          0  guy is a loser cant get girls needs to build u...   \n",
       "24998  10194_3          0  this 30 minute documentary buuel made in the e...   \n",
       "24999   8478_8          1  i saw this movie as a child and it broke my he...   \n",
       "\n",
       "      predicted_sentiment predicted_sentiment_textblob  \n",
       "0                positive                     positive  \n",
       "1                positive                     positive  \n",
       "2                negative                     negative  \n",
       "3                positive                     positive  \n",
       "4                negative                     negative  \n",
       "...                   ...                          ...  \n",
       "24995            positive                     positive  \n",
       "24996            positive                     positive  \n",
       "24997            positive                     positive  \n",
       "24998            positive                     positive  \n",
       "24999            positive                     positive  \n",
       "\n",
       "[25000 rows x 5 columns]"
      ]
     },
     "execution_count": 128,
     "metadata": {},
     "output_type": "execute_result"
    }
   ],
   "source": [
    "import re\n",
    "# import re library \n",
    "df['review'] = df['review'].apply(lambda x: re.sub(r'[^a-zA-Z0-9\\s]', '', x))\n",
    "# removes all of the non-alphebetical, non-digit, and whitespace values\n",
    "df\n",
    "# displays what it looks like"
   ]
  },
  {
   "cell_type": "code",
   "execution_count": 132,
   "id": "ce14eb91",
   "metadata": {},
   "outputs": [
    {
     "name": "stderr",
     "output_type": "stream",
     "text": [
      "[nltk_data] Downloading package punkt to\n",
      "[nltk_data]     C:\\Users\\jared\\AppData\\Roaming\\nltk_data...\n",
      "[nltk_data]   Package punkt is already up-to-date!\n"
     ]
    },
    {
     "data": {
      "text/plain": [
       "True"
      ]
     },
     "execution_count": 132,
     "metadata": {},
     "output_type": "execute_result"
    }
   ],
   "source": [
    "import nltk\n",
    "nltk.download('punkt')\n",
    "# download necessary libraries and packets recieves from punkt"
   ]
  },
  {
   "cell_type": "code",
   "execution_count": 133,
   "id": "d79cf05e",
   "metadata": {},
   "outputs": [],
   "source": [
    "from nltk.stem import PorterStemmer\n",
    "from nltk.tokenize import word_tokenize\n",
    "\n",
    "# initalize Porter Stemmer\n",
    "porter = PorterStemmer()\n",
    "\n",
    "# defines function to apply porter stemmer\n",
    "def apply_stemming(text):\n",
    "    # tokenize text\n",
    "    tokens = word_tokenize(text)\n",
    "    # aplly stemming to each token\n",
    "    stemmed_tokens = [porter.stem(token) for token in tokens]\n",
    "    # join the stemmed tokens back into a string\n",
    "    stemmed_text = ' '.join(stemmed_tokens)\n",
    "    return stemmed_text\n",
    "\n",
    "# apply Porter Stemmer to 'review' column\n",
    "df['review'] = df['review'].apply(apply_stemming)\n"
   ]
  },
  {
   "cell_type": "code",
   "execution_count": 134,
   "id": "c40ff206",
   "metadata": {},
   "outputs": [
    {
     "name": "stdout",
     "output_type": "stream",
     "text": [
      "       id  sentiment                                             review  \\\n",
      "0  5814_8          1  with all thi stuff go down at the moment with ...   \n",
      "1  2381_9          1  the classic war of the world by timothi hine i...   \n",
      "2  7759_3          0  the film start with a manag nichola bell give ...   \n",
      "3  3630_4          0  it must be assum that those who prai thi film ...   \n",
      "4  9495_8          1  superbl trashi and wondrou unpretenti 80 explo...   \n",
      "\n",
      "  predicted_sentiment predicted_sentiment_textblob  \n",
      "0            positive                     positive  \n",
      "1            positive                     positive  \n",
      "2            negative                     negative  \n",
      "3            positive                     positive  \n",
      "4            negative                     negative  \n"
     ]
    }
   ],
   "source": [
    "print(df.head())"
   ]
  },
  {
   "cell_type": "code",
   "execution_count": 135,
   "id": "66500f12",
   "metadata": {},
   "outputs": [
    {
     "name": "stdout",
     "output_type": "stream",
     "text": [
      "Dimensions of the bag-of-words matrix: (25000, 91347)\n"
     ]
    }
   ],
   "source": [
    "from sklearn.feature_extraction.text import CountVectorizer\n",
    "\n",
    "# initialize CountVectorizer\n",
    "vectorizer = CountVectorizer()\n",
    "\n",
    "# fit transform the stemmed text to create matrix for bag-of-words\n",
    "bow_matrix = vectorizer.fit_transform(df['review'])\n",
    "\n",
    "# display the dimensions\n",
    "print(\"Dimensions of the bag-of-words matrix:\", bow_matrix.shape)\n"
   ]
  },
  {
   "cell_type": "code",
   "execution_count": 136,
   "id": "23d62e0a",
   "metadata": {},
   "outputs": [
    {
     "name": "stdout",
     "output_type": "stream",
     "text": [
      "Dimensions of the tf-idf matrix: (25000, 91347)\n"
     ]
    }
   ],
   "source": [
    "from sklearn.feature_extraction.text import TfidfVectorizer\n",
    "\n",
    "# initialize TfidfVectorizer\n",
    "tfidf_vectorizer = TfidfVectorizer()\n",
    "\n",
    "# fit-transform the stemmed text to create the tf-idf matrix\n",
    "tfidf_matrix = tfidf_vectorizer.fit_transform(df['review'])\n",
    "\n",
    "# Display the dimensions of the matrix\n",
    "print(\"Dimensions of the tf-idf matrix:\", tfidf_matrix.shape)\n"
   ]
  }
 ],
 "metadata": {
  "kernelspec": {
   "display_name": "Python 3 (ipykernel)",
   "language": "python",
   "name": "python3"
  },
  "language_info": {
   "codemirror_mode": {
    "name": "ipython",
    "version": 3
   },
   "file_extension": ".py",
   "mimetype": "text/x-python",
   "name": "python",
   "nbconvert_exporter": "python",
   "pygments_lexer": "ipython3",
   "version": "3.9.12"
  }
 },
 "nbformat": 4,
 "nbformat_minor": 5
}
